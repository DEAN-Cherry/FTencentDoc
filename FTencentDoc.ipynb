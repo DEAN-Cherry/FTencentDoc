{
 "cells": [
  {
   "cell_type": "code",
   "execution_count": 1,
   "metadata": {
    "collapsed": true
   },
   "outputs": [],
   "source": [
    "import logging\n",
    "import time\n",
    "import datetime\n",
    "from datetime import date\n",
    "from selenium import webdriver\n",
    "from selenium.webdriver.common.keys import Keys\n",
    "from openpyxl import Workbook\n",
    "from openpyxl.utils import get_column_letter\n",
    "from selenium.webdriver.support.ui import Select\n",
    "from selenium.webdriver.common.by import By\n",
    "from selenium.webdriver.common.action_chains import ActionChains\n",
    "import win32clipboard as w\n",
    "import win32con\n",
    "import base64\n",
    "import json\n",
    "import os\n",
    "from tqdm import tqdm, trange\n",
    "from colorama import Fore"
   ]
  },
  {
   "cell_type": "markdown",
   "source": [
    "tqdm 颜色支持\n",
    "    |BLACK, RED, GREEN, YELLOW, BLUE, MAGENTA, CYAN, WHITE\n",
    "`bar_format='{l_bar}%s{bar}%s{r_bar}' % (Fore.BLUE, Fore.RESET)`"
   ],
   "metadata": {
    "collapsed": false
   }
  },
  {
   "cell_type": "code",
   "execution_count": 2,
   "outputs": [],
   "source": [
    "logger = logging.getLogger()\n",
    "logger.setLevel(logging.INFO)\n",
    "rq = time.strftime('%Y-%m-%d', time.localtime(time.time()))\n",
    "log_path = os.getcwd() + '/logs/'\n",
    "log_name = log_path + rq + '.log'\n",
    "logfile = log_name\n",
    "fh = logging.FileHandler(logfile)\n",
    "fh.setLevel(logging.DEBUG)  # 输出到file的log等级的开关\n",
    "\n",
    "ch = logging.StreamHandler()\n",
    "ch.setLevel(logging.WARNING)\n",
    "\n",
    "# 第三步，定义handler的输出格式\n",
    "formatter = logging.Formatter(\"%(asctime)s\\t%(levelname)s --- %(filename)s[line:%(lineno)d] - %(funcName)s : %(message)s\")\n",
    "fh.setFormatter(formatter)\n",
    "ch.setFormatter(formatter)\n",
    "# 第四步，将logger添加到handler里面\n",
    "logger.addHandler(fh)\n",
    "logger.addHandler(ch)\n"
   ],
   "metadata": {
    "collapsed": false
   }
  },
  {
   "cell_type": "code",
   "execution_count": 3,
   "outputs": [],
   "source": [
    "\n",
    "cookies = []\n",
    "whereami = 206\n",
    "doc_url = 'https://docs.qq.com/sheet/DZEx4eFBrYVNSb3di?tab=BB08J2&u=d4e0a9ea21c04264806e482dadeb398a'\n",
    "reference_col = 0\n",
    "reference_row = 0\n",
    "\n",
    "column = 1\n",
    "row = 2\n",
    "information_col = 3\n",
    "information_row = 3\n",
    "\n"
   ],
   "metadata": {
    "collapsed": false
   }
  },
  {
   "cell_type": "code",
   "execution_count": 4,
   "outputs": [],
   "source": [
    "\n",
    "registered_user = {\n",
    "    \"聂博洋\": 0,\n",
    "    \"唐海成\": 1,\n",
    "    \"李文锋\": 2,\n",
    "    \"高泽森\": -2\n",
    "}\n"
   ],
   "metadata": {
    "collapsed": false
   }
  },
  {
   "cell_type": "code",
   "execution_count": 5,
   "outputs": [],
   "source": [
    "def update_config():\n",
    "    global config\n",
    "    get_cookies()\n",
    "    config = {\n",
    "        \"whereami\": whereami,\n",
    "        \"reference_pos\": (reference_row, reference_col),\n",
    "        \"doc_url\": doc_url,\n",
    "        \"user\": registered_user,\n",
    "        \"cookies\": cookies\n",
    "    }\n",
    "    print(\"config已更新\")\n",
    "def save_config():\n",
    "    global config\n",
    "    update_config()\n",
    "    tf = open(\"localConfig.json\", 'w')\n",
    "    json.dump(config, tf)\n",
    "    tf.close()\n",
    "    print(\"config 已保存\")\n",
    "def load_config():\n",
    "    global whereami, reference_row, reference_col, doc_url, registered_user, cookies\n",
    "    tf = open(\"localConfig.json\", \"r\")\n",
    "    new_dict = json.load(tf)\n",
    "    k = [i for i in new_dict]\n",
    "\n",
    "    whereami = new_dict[k[0]]\n",
    "    reference_row, reference_col = new_dict[k[1]]\n",
    "    doc_url = new_dict[k[2]]\n",
    "    registered_user = new_dict[k[3]]\n",
    "    cookies = new_dict[k[4]]\n",
    "\n",
    "    return new_dict, k"
   ],
   "metadata": {
    "collapsed": false
   }
  },
  {
   "cell_type": "code",
   "execution_count": 6,
   "outputs": [],
   "source": [
    "config, keys = load_config()"
   ],
   "metadata": {
    "collapsed": false
   }
  },
  {
   "cell_type": "code",
   "execution_count": 7,
   "outputs": [
    {
     "data": {
      "text/plain": "(209, 27)"
     },
     "execution_count": 7,
     "metadata": {},
     "output_type": "execute_result"
    }
   ],
   "source": [
    "reference_row, reference_col"
   ],
   "metadata": {
    "collapsed": false
   }
  },
  {
   "cell_type": "code",
   "execution_count": 88,
   "outputs": [],
   "source": [
    "def get_text():\n",
    "    time.sleep(1)\n",
    "    w.OpenClipboard()\n",
    "    is_available = True\n",
    "\n",
    "    try:\n",
    "        w.GetClipboardData(win32con.CF_TEXT)\n",
    "    except Exception as e:\n",
    "        print(e)\n",
    "        is_available = False\n",
    "\n",
    "    if is_available:\n",
    "        text = w.GetClipboardData(win32con.CF_TEXT)\n",
    "    else:\n",
    "        text = '该项目为空'.encode('gbk', 'xmlcharrefrepalce')\n",
    "\n",
    "    w.CloseClipboard()\n",
    "    return text.decode('gbk')\n",
    "\n",
    "\n",
    "def set_text(a):\n",
    "    w.OpenClipboard()\n",
    "    w.EmptyClipboard()\n",
    "    w.SetClipboardData(win32con.CF_TEXT, a)\n",
    "    w.CloseClipboard()\n",
    "\n",
    "\n",
    "def copy_cell():\n",
    "    ActionChains(driver).key_down(Keys.CONTROL).key_down('c').key_up(Keys.CONTROL).key_up('c').perform()\n",
    "    return get_text()\n",
    "\n",
    "def get_cell():\n",
    "    cell_input = driver.find_element(By.ID, 'alloy-simple-text-editor').text\n",
    "    return cell_input\n",
    "\n",
    "def get_xy():\n",
    "    global row, column\n",
    "    return row, column\n",
    "\n",
    "def date_func(_x):\n",
    "    _month = _x.split(\"月\")[0]\n",
    "    _day = _x.split(\"月\")[1].split(\"日\")[0]\n",
    "    selected_date = date(date.today().year, int(_month), int(_day))\n",
    "    logger.info(f\"初始化位移后选中的日期是：{_month}月{_day}日\")\n",
    "    gap = date.today().toordinal() - selected_date.toordinal()\n",
    "    logger.info(f\"相差的单元格数为：{gap}\\t正在移动中……\")\n",
    "    return gap\n",
    "\n",
    "\n",
    "def cell_fill():\n",
    "    if plain_text_fill():\n",
    "        print(\"打卡成功\")\n",
    "        return True\n",
    "    elif data_validation_fill():\n",
    "        print(\"打卡成功\")\n",
    "        return True\n",
    "    else:\n",
    "        print(\"打卡失败\")\n",
    "        return False\n",
    "\n",
    "\n",
    "def data_validation_fill():\n",
    "    is_finished = False\n",
    "    if field_validation('该项目为空'):\n",
    "        ActionChains(driver).key_down(Keys.SPACE).key_up(Keys.SPACE).perform()\n",
    "        time.sleep(0.5)\n",
    "        ActionChains(driver).key_down(Keys.DOWN).key_down(Keys.DOWN).perform()\n",
    "        time.sleep(0.5)\n",
    "        ActionChains(driver).key_down(Keys.ENTER).perform()\n",
    "        get_focus()\n",
    "        if field_validation(\"已做核酸\"):\n",
    "            is_finished = True\n",
    "    elif field_validation(\"已做核酸\"):\n",
    "        print(\"今天已经签到过了\")\n",
    "        is_finished = True\n",
    "    else:\n",
    "        print(f\"期望的内容`已做核酸`, 但是检测到`{get_cell()}`, 请检测您需要填入的信息。\")\n",
    "        is_finished = False\n",
    "\n",
    "    return is_finished\n",
    "\n",
    "\n",
    "def plain_text_fill(text=\"已做核酸\"):\n",
    "    is_finished = False\n",
    "\n",
    "    if field_validation('该项目为空'):\n",
    "        driver.find_element(By.ID, 'alloy-simple-text-editor').click()\n",
    "        time.sleep(0.1)\n",
    "        ActionChains(driver).double_click().perform()\n",
    "        time.sleep(0.1)\n",
    "        driver.find_element(By.ID, 'alloy-simple-text-editor').send_keys(text)\n",
    "        time.sleep(0.5)\n",
    "        ActionChains(driver).click().perform()\n",
    "        time.sleep(0.1)\n",
    "        if field_validation(text):\n",
    "            is_finished = True\n",
    "    elif field_validation(text):\n",
    "        print(\"今天已经签过到了\")\n",
    "        is_finished = True\n",
    "    else:\n",
    "        print(f\"期望的内容`{text}`, 但是检测到`{get_cell()}`, 请检测您需要填入的信息。\")\n",
    "        is_finished = False\n",
    "\n",
    "    return is_finished\n",
    "\n",
    "\n",
    "def column_redirection():\n",
    "    driver.switch_to.parent_frame()\n",
    "    normalization()\n",
    "    move_down()\n",
    "\n",
    "    if field_validation('年级'):\n",
    "        logger.info(\"表格初始化定位成功\")\n",
    "    else:\n",
    "        logger.error(\"表格初始化失败\")\n",
    "        exit()\n",
    "\n",
    "\n",
    "    with tqdm(total=100, colour='blue') as pbar:\n",
    "        pbar.set_description(\"列定位\")\n",
    "        for _ in range(0, 5):\n",
    "            move_right()\n",
    "            pbar.update(5)\n",
    "            x, y = get_xy()\n",
    "            pbar.set_postfix(text=get_cell(), row=x, column=y)\n",
    "\n",
    "\n",
    "        cost = date_func(get_cell())\n",
    "        time.sleep(0.5)\n",
    "        for _ in range(0, cost):\n",
    "            move_right()\n",
    "            x, y = get_xy()\n",
    "            pbar.set_postfix(text=get_cell(), row=x, column=y)\n",
    "            pbar.update(75/cost)\n",
    "\n",
    "        print(\"Success\")\n",
    "\n",
    "    time.sleep(0.1)\n",
    "    logger.info(f\"移动完成的位置是：{get_cell()}\")\n",
    "\n",
    "\n",
    "def row_redirection(p):\n",
    "    with trange(p, colour='blue') as pbar:\n",
    "        for _ in pbar:\n",
    "            pbar.set_description(\"行定位\")\n",
    "            move_down()\n",
    "            x, y = get_xy()\n",
    "            pbar.set_postfix(text = get_cell(), row=x, column=y)\n",
    "\n",
    "    print(\"Success\\n\")\n",
    "\n",
    "def position_redirection():\n",
    "    column_redirection()\n",
    "    row_redirection(whereami)\n",
    "    print('位置初始化完成')\n",
    "\n",
    "\n",
    "\n",
    "def position_validation(*p):\n",
    "    global reference_row, reference_col, information_row, information_col\n",
    "    bool_i, bool_j = True, True\n",
    "    val_row, val_col = get_xy()\n",
    "\n",
    "\n",
    "    with trange(val_col - information_col, colour='red') as pbar:\n",
    "        pbar.set_description(\"行验证\")\n",
    "        for _ in pbar:\n",
    "            move_left()\n",
    "            x, y = get_xy()\n",
    "            pbar.set_postfix(text = get_cell(), row=x, column=y)\n",
    "\n",
    "    if field_validation(\"聂博洋\"):\n",
    "        logger.info(\"初始化行定位正确\")\n",
    "        print(\"行定位正确\")\n",
    "\n",
    "    else:\n",
    "        logger.error(\"行定位失败\")\n",
    "        print('行定位失败')\n",
    "        bool_i = False\n",
    "\n",
    "    with trange(val_col - information_col, colour='green') as pbar:\n",
    "        pbar.set_description(\"行复位\")\n",
    "        for _ in pbar:\n",
    "            move_right()\n",
    "\n",
    "    with trange(val_row - information_row, colour='red') as pbar:\n",
    "        pbar.set_description(\"列验证\")\n",
    "        for _ in pbar:\n",
    "            move_up()\n",
    "            x, y = get_xy()\n",
    "            pbar.set_postfix(text = get_cell(), row=x, column=y)\n",
    "\n",
    "    if field_validation(today_date):\n",
    "        logger.info(\"初始化行定位正确\")\n",
    "        print('列定位正确')\n",
    "    elif field_validation(today_validation):\n",
    "        logger.info(\"初始化行定位正确\")\n",
    "        print('列定位正确')\n",
    "    else:\n",
    "        logger.error(\"列定位失败\")\n",
    "        print('列定位失败')\n",
    "        bool_j = False\n",
    "\n",
    "    with trange(val_row - information_row, colour='green') as pbar:\n",
    "        pbar.set_description(\"列复位\")\n",
    "        for _ in pbar:\n",
    "            move_down()\n",
    "\n",
    "    if bool_i:\n",
    "        reference_row = val_row\n",
    "\n",
    "        if bool_j:\n",
    "            reference_col = val_col\n",
    "            return True\n",
    "        else:\n",
    "            return False\n",
    "    else:\n",
    "        return False\n",
    "\n",
    "\n",
    "def field_validation(text):\n",
    "\n",
    "    copy_text = str(get_cell()).strip()\n",
    "\n",
    "    if copy_text == '':\n",
    "        copy_text = \"该项目为空\"\n",
    "\n",
    "    if copy_text == text.strip():\n",
    "        logger.info(f\"`{text}`\\t验证成功！\")\n",
    "        return True\n",
    "    else:\n",
    "        logger.error(f\"验证失败，期望的值`{text.strip()}`，然而检验到的值为`{copy_text}`\")\n",
    "        return False\n",
    "\n",
    "\n",
    "def cookies_validation():\n",
    "    global cookies\n",
    "    is_available = False\n",
    "    login_method(2, driver)\n",
    "    time.sleep(1)\n",
    "    try:\n",
    "        driver.find_element(By.XPATH, '//*[@id=\"canvasContainer\"]/div[1]/div[2]').click()\n",
    "        is_available = True\n",
    "    except Exception as e:\n",
    "        logger.info(\"cookies已过期\")\n",
    "        logger.info(repr(e))\n",
    "        print(\"您的Cookies已过期\")\n",
    "\n",
    "    return is_available\n",
    "\n",
    "\n",
    "def get_cookies():\n",
    "    global cookies\n",
    "    try:\n",
    "        driver.refresh()  #先刷新界面\n",
    "        cookies = driver.get_cookies()\n",
    "        logger.info(cookies)  #获得cookie并打印\n",
    "        return cookies\n",
    "\n",
    "    except Exception as e:\n",
    "        logger.warning(\"cookies获取失败\")\n",
    "        logger.info(repr(e))\n",
    "        print(\"cookies获取失败，请检查是否登陆了QQ\")\n",
    "\n",
    "\n",
    "def login_method(t, _driver):\n",
    "    if t == 1:\n",
    "        _driver.find_element(By.ID, 'blankpage-button-pc').click()\n",
    "        # driver.find_element_by_class_name('unlogin-container').click()#点击登入按钮\n",
    "        time.sleep(1)\n",
    "        _driver.find_element(By.ID, 'qq-tabs-title').click()\n",
    "        _driver.switch_to.frame(_driver.find_element(By.ID, 'login_frame'))\n",
    "        try:\n",
    "            _driver.find_element(By.CLASS_NAME, 'img_out_focus').click()\n",
    "\n",
    "        except Exception as e:\n",
    "            # TODO 把密码隐藏\n",
    "            logger.error(\"QQ点击登陆失败\")\n",
    "            logger.error(repr(e))\n",
    "            print('未找到登录的QQ')\n",
    "            print('尝试使用账号密码登陆,可能会需要手机验证码')\n",
    "            _driver.find_element(By.ID, 'switcher_plogin').click()\n",
    "            _driver.find_element(By.XPATH, '//*[@id=\"u\"]').send_keys(\"772839031\")\n",
    "            time.sleep(1)\n",
    "            _driver.find_element(By.XPATH, '//*[@id=\"p\"]').send_keys(\n",
    "                base64.b64decode('这里是QQ密码').decode(\"utf-8\"))\n",
    "            time.sleep(0.5)\n",
    "            _driver.find_element(By.ID, 'login_button').click()\n",
    "            #这个不好用，因为一定会要求你使用手机验证码，废案。\n",
    "    if t == 2:\n",
    "        _driver.delete_all_cookies()\n",
    "        for cookie in cookies:\n",
    "            cookie_dict = {\n",
    "                'domain': '.docs.qq.com',  #这里是固定的每个网站都不同\n",
    "                'name': cookie.get('name'),\n",
    "                'value': cookie.get('value'),\n",
    "                \"expires\": cookie.get('value'),\n",
    "                'path': '/',\n",
    "                'httpOnly': False,\n",
    "                'HostOnly': False,\n",
    "                'Secure': False}\n",
    "            _driver.add_cookie(cookie_dict)\n",
    "        _driver.refresh()  #带着cookie重新加载\n",
    "        time.sleep(1)\n",
    "\n",
    "def normalization():\n",
    "    global row, column\n",
    "    row = 2\n",
    "    column = 1\n",
    "    ActionChains(driver).key_down(Keys.CONTROL).key_down(Keys.HOME).key_up(Keys.CONTROL).key_up(Keys.HOME).perform()\n",
    "\n",
    "def move_down():\n",
    "    global row\n",
    "    row += 1\n",
    "    ActionChains(driver).key_down(Keys.DOWN).perform()\n",
    "\n",
    "\n",
    "def move_up():\n",
    "    global row\n",
    "    row -= 1\n",
    "    ActionChains(driver).key_down(Keys.UP).perform()\n",
    "\n",
    "\n",
    "def move_left():\n",
    "    global column\n",
    "    column -= 1\n",
    "    ActionChains(driver).key_down(Keys.LEFT).perform()\n",
    "\n",
    "\n",
    "def move_right():\n",
    "    global column\n",
    "    column += 1\n",
    "    ActionChains(driver).key_down(Keys.RIGHT).perform()\n",
    "\n",
    "def get_focus():\n",
    "    driver.find_element(By.ID, 'alloy-simple-text-editor').click()\n",
    "\n",
    "def user_service(user):\n",
    "    user = dict(sorted(user.items(), key=lambda x: x[1]))\n",
    "    step = 0\n",
    "    step_list = [user[i] for i in user]\n",
    "    user_list = [i for i in user]\n",
    "    for i in range(len(step_list)):\n",
    "\n",
    "        if step_list[i] == 0:\n",
    "            if cell_fill():\n",
    "                print(f\"\\x1b[1;37;44m用户`{user_list[i]}`签到已完成\\x1b[0m\")\n",
    "\n",
    "        elif step_list[i] > 0:\n",
    "            step = abs(step_list[i])\n",
    "            for j in range(step):\n",
    "                move_down()\n",
    "            step_list = [*map(lambda x: x - step, step_list)]\n",
    "            if cell_fill():\n",
    "                 print(f\"\\x1b[1;37;44m用户`{user_list[i]}`签到已完成\\x1b[0m\")\n",
    "\n",
    "        elif step_list[i] < 0:\n",
    "            step = abs(step_list[i])\n",
    "            for j in range(step):\n",
    "                move_up()\n",
    "            step_list = [*map(lambda x: x + step, step_list)]\n",
    "            if cell_fill():\n",
    "                print(f\"\\x1b[1;37;44m用户`{user_list[i]}`签到已完成\\x1b[0m\")\n",
    "\n",
    "        time.sleep(1)\n"
   ],
   "metadata": {
    "collapsed": false
   }
  },
  {
   "cell_type": "markdown",
   "source": [
    "获取时间"
   ],
   "metadata": {
    "collapsed": false
   }
  },
  {
   "cell_type": "code",
   "execution_count": 9,
   "outputs": [],
   "source": [
    "#先获得时间\n",
    "\n",
    "today_date = str(datetime.datetime.now().year) + \"/\" + str(datetime.datetime.now().month) + \"/\" + str(\n",
    "    datetime.datetime.now().day)\n",
    "today_validation = f'{date.today().month}月{date.today().day}日'\n"
   ],
   "metadata": {
    "collapsed": false
   }
  },
  {
   "cell_type": "code",
   "execution_count": 10,
   "outputs": [],
   "source": [
    "#接下来写脚本自动登录网页\n",
    "driver = webdriver.Chrome()\n",
    "driver.get(doc_url)  #将健康表的地址copy过来就行。\n"
   ],
   "metadata": {
    "collapsed": false
   }
  },
  {
   "cell_type": "code",
   "execution_count": 11,
   "outputs": [
    {
     "name": "stdout",
     "output_type": "stream",
     "text": [
      "成功登陆\n"
     ]
    }
   ],
   "source": [
    "if cookies_validation():\n",
    "    print(\"成功登陆\")\n",
    "else:\n",
    "    login_method(1, driver)\n",
    "    time.sleep(1)\n",
    "    update_config()\n",
    "\n"
   ],
   "metadata": {
    "collapsed": false
   }
  },
  {
   "cell_type": "markdown",
   "source": [
    "进入主体编辑"
   ],
   "metadata": {
    "collapsed": false
   }
  },
  {
   "cell_type": "code",
   "execution_count": 82,
   "outputs": [
    {
     "name": "stderr",
     "output_type": "stream",
     "text": [
      "列定位: 100%|\u001B[34m█████████▉\u001B[0m| 99.99999999999997/100 [00:01<00:00, 75.28it/s, column=27, row=3, text=2022/11/10]  \n"
     ]
    },
    {
     "name": "stdout",
     "output_type": "stream",
     "text": [
      "Success\n"
     ]
    },
    {
     "name": "stderr",
     "output_type": "stream",
     "text": [
      "行定位: 100%|\u001B[34m██████████\u001B[0m| 206/206 [00:05<00:00, 35.51it/s, column=27, row=209, text=已做核酸]    "
     ]
    },
    {
     "name": "stdout",
     "output_type": "stream",
     "text": [
      "Success\n",
      "\n",
      "位置初始化完成\n"
     ]
    },
    {
     "name": "stderr",
     "output_type": "stream",
     "text": [
      "\n"
     ]
    }
   ],
   "source": [
    "position_redirection()"
   ],
   "metadata": {
    "collapsed": false
   }
  },
  {
   "cell_type": "code",
   "execution_count": null,
   "outputs": [],
   "source": [
    "print(\"开始验证初始化位置正确性\")\n",
    "if position_validation():\n",
    "    print(\"验证成功\")\n",
    "    update_config()"
   ],
   "metadata": {
    "collapsed": false,
    "pycharm": {
     "is_executing": true
    }
   }
  },
  {
   "cell_type": "code",
   "execution_count": 71,
   "outputs": [
    {
     "data": {
      "text/plain": "{'聂博洋': 0, '唐海成': 1, '李文锋': 2, '高泽森': -2}"
     },
     "execution_count": 71,
     "metadata": {},
     "output_type": "execute_result"
    }
   ],
   "source": [
    "registered_user"
   ],
   "metadata": {
    "collapsed": false
   }
  },
  {
   "cell_type": "code",
   "execution_count": 89,
   "outputs": [
    {
     "name": "stderr",
     "output_type": "stream",
     "text": [
      "2022-11-10 01:00:59,843\tERROR --- 1016824737.py[line:232] - field_validation : 验证失败，期望的值`已做核酸`，然而检验到的值为`该项目为空`\n"
     ]
    },
    {
     "name": "stdout",
     "output_type": "stream",
     "text": [
      "打卡成功\n",
      "\u001B[1;37;44m用户`高泽森`签到已完成\u001B[0m\n"
     ]
    },
    {
     "name": "stderr",
     "output_type": "stream",
     "text": [
      "2022-11-10 01:01:02,855\tERROR --- 1016824737.py[line:232] - field_validation : 验证失败，期望的值`已做核酸`，然而检验到的值为`该项目为空`\n"
     ]
    },
    {
     "name": "stdout",
     "output_type": "stream",
     "text": [
      "打卡成功\n",
      "\u001B[1;37;44m用户`聂博洋`签到已完成\u001B[0m\n"
     ]
    },
    {
     "name": "stderr",
     "output_type": "stream",
     "text": [
      "2022-11-10 01:01:05,831\tERROR --- 1016824737.py[line:232] - field_validation : 验证失败，期望的值`已做核酸`，然而检验到的值为`该项目为空`\n"
     ]
    },
    {
     "name": "stdout",
     "output_type": "stream",
     "text": [
      "打卡成功\n",
      "\u001B[1;37;44m用户`唐海成`签到已完成\u001B[0m\n"
     ]
    },
    {
     "name": "stderr",
     "output_type": "stream",
     "text": [
      "2022-11-10 01:01:08,819\tERROR --- 1016824737.py[line:232] - field_validation : 验证失败，期望的值`已做核酸`，然而检验到的值为`该项目为空`\n"
     ]
    },
    {
     "name": "stdout",
     "output_type": "stream",
     "text": [
      "打卡成功\n",
      "\u001B[1;37;44m用户`李文锋`签到已完成\u001B[0m\n"
     ]
    }
   ],
   "source": [
    "user_service(registered_user)"
   ],
   "metadata": {
    "collapsed": false
   }
  },
  {
   "cell_type": "code",
   "execution_count": 98,
   "outputs": [
    {
     "name": "stdout",
     "output_type": "stream",
     "text": [
      "config已更新\n",
      "config 已保存\n"
     ]
    }
   ],
   "source": [
    "save_config()"
   ],
   "metadata": {
    "collapsed": false
   }
  },
  {
   "cell_type": "code",
   "execution_count": 99,
   "outputs": [
    {
     "data": {
      "text/plain": "{'whereami': 206,\n 'reference_pos': (209, 26),\n 'doc_url': 'https://docs.qq.com/sheet/DZEx4eFBrYVNSb3di?tab=BB08J2&u=d4e0a9ea21c04264806e482dadeb398a',\n 'user': {'聂博洋': 0, '唐海成': 1, '李文锋': 2, '高泽森': -2},\n 'cookies': [{'domain': 'docs.qq.com',\n   'expiry': 1670589958,\n   'httpOnly': False,\n   'name': 'optimal_cdn_domain',\n   'path': '/',\n   'secure': False,\n   'value': 'docs2.gtimg.com'},\n  {'domain': '.docs.qq.com',\n   'httpOnly': False,\n   'name': 'CheckKey',\n   'path': '/',\n   'secure': True,\n   'value': '4a0ce4362cf60361f75b935aHfeso1'},\n  {'domain': '.docs.qq.com',\n   'httpOnly': False,\n   'name': 'hashkey',\n   'path': '/',\n   'secure': True,\n   'value': 'd856b2c3'},\n  {'domain': '.docs.qq.com',\n   'httpOnly': False,\n   'name': 'low_login_enable',\n   'path': '/',\n   'secure': True,\n   'value': '1'},\n  {'domain': '.docs.qq.com',\n   'httpOnly': False,\n   'name': 'vfwebqq',\n   'path': '/',\n   'secure': True,\n   'value': '8a10a7c2039c191712b5600d13558d515864f76f4da07a0962921a2059737ba9489527a270ede390'},\n  {'domain': '.docs.qq.com',\n   'httpOnly': False,\n   'name': 'traceid',\n   'path': '/',\n   'secure': True,\n   'value': 'd856b2c3d7'},\n  {'domain': '.docs.qq.com',\n   'httpOnly': False,\n   'name': 'p_lskey',\n   'path': '/',\n   'secure': True,\n   'value': '0004000067ccbb3b2abe2a389b38a25960c03690569707d9be4c190366d005a082017d7e8be7ed5ef21b70ad'},\n  {'domain': '.docs.qq.com',\n   'httpOnly': False,\n   'name': 'p_uin',\n   'path': '/',\n   'secure': True,\n   'value': 'o0772839031'},\n  {'domain': '.docs.qq.com',\n   'httpOnly': False,\n   'name': '_qpsvr_localtk',\n   'path': '/',\n   'secure': True,\n   'value': '0.7391602713364027'},\n  {'domain': '.docs.qq.com',\n   'httpOnly': False,\n   'name': 'ptcz',\n   'path': '/',\n   'secure': True,\n   'value': '58874675fa58a4272e76ee394fdedf52ff6114107613251be8425bd292e1c17a'},\n  {'domain': '.docs.qq.com',\n   'httpOnly': False,\n   'name': 'uin',\n   'path': '/',\n   'secure': True,\n   'value': 'o0772839031'},\n  {'domain': '.docs.qq.com',\n   'httpOnly': False,\n   'name': 'p_luin',\n   'path': '/',\n   'secure': True,\n   'value': 'o0772839031'},\n  {'domain': '.docs.qq.com',\n   'httpOnly': False,\n   'name': 'lskey',\n   'path': '/',\n   'secure': True,\n   'value': '00010000c681167fd7a310a5ae2628aaf505ae91c6e2338b5143a7971276c4d7feb5ec57fa6741a183eeddba'},\n  {'domain': '.docs.qq.com',\n   'httpOnly': False,\n   'name': 'p_skey',\n   'path': '/',\n   'secure': True,\n   'value': 'hXt2OkPMmaiAa3YyVoF1ExkKXinH8m8PHP7igl1*qUk_'},\n  {'domain': '.docs.qq.com',\n   'httpOnly': False,\n   'name': 'RK',\n   'path': '/',\n   'secure': True,\n   'value': '8Dkx4s0EPT'},\n  {'domain': '.docs.qq.com',\n   'httpOnly': False,\n   'name': 'pt4_token',\n   'path': '/',\n   'secure': True,\n   'value': 'IrS6HWlAUDlqz4qZU77xHpHh0bvBdlUeuiJ6sIlZIhA_'},\n  {'domain': '.docs.qq.com',\n   'httpOnly': False,\n   'name': 'TOK',\n   'path': '/',\n   'secure': True,\n   'value': 'd856b2c3d728d306'},\n  {'domain': '.docs.qq.com',\n   'httpOnly': False,\n   'name': 'DOC_SID',\n   'path': '/',\n   'secure': True,\n   'value': 'd64d248562014ebe81f279073bcb6909456fe3454feb41e79e8755dd725a0a15'},\n  {'domain': '.docs.qq.com',\n   'httpOnly': False,\n   'name': 'luin',\n   'path': '/',\n   'secure': True,\n   'value': 'o0772839031'},\n  {'domain': '.docs.qq.com',\n   'httpOnly': False,\n   'name': 'fingerprint',\n   'path': '/',\n   'secure': True,\n   'value': '324507da458047cba809cbe483825a5f74'},\n  {'domain': '.docs.qq.com',\n   'httpOnly': False,\n   'name': 'skey',\n   'path': '/',\n   'secure': True,\n   'value': '@ZXkF1qCXK'},\n  {'domain': '.docs.qq.com',\n   'httpOnly': False,\n   'name': 'has_been_login',\n   'path': '/',\n   'secure': True,\n   'value': '1'},\n  {'domain': '.docs.qq.com',\n   'httpOnly': False,\n   'name': 'SID',\n   'path': '/',\n   'secure': True,\n   'value': 'd64d248562014ebe81f279073bcb6909456fe3454feb41e79e8755dd725a0a15'},\n  {'domain': '.docs.qq.com',\n   'httpOnly': False,\n   'name': 'loginTime',\n   'path': '/',\n   'secure': True,\n   'value': '1667975598778'}]}"
     },
     "execution_count": 99,
     "metadata": {},
     "output_type": "execute_result"
    }
   ],
   "source": [
    "config"
   ],
   "metadata": {
    "collapsed": false
   }
  },
  {
   "cell_type": "code",
   "execution_count": 69,
   "outputs": [
    {
     "name": "stderr",
     "output_type": "stream",
     "text": [
      "2022-11-10 00:52:07,264\tERROR --- 1732505991.py[line:232] - field_validation : 验证失败，期望的值`该项目为空`，然而检验到的值为`已做核酸`\n"
     ]
    },
    {
     "name": "stdout",
     "output_type": "stream",
     "text": [
      "今天已经签过到了\n",
      "打卡成功\n"
     ]
    },
    {
     "data": {
      "text/plain": "True"
     },
     "execution_count": 69,
     "metadata": {},
     "output_type": "execute_result"
    }
   ],
   "source": [
    "cell_fill()"
   ],
   "metadata": {
    "collapsed": false
   }
  },
  {
   "cell_type": "code",
   "execution_count": 73,
   "outputs": [
    {
     "name": "stderr",
     "output_type": "stream",
     "text": [
      "2022-11-10 00:54:14,703\tERROR --- 1732505991.py[line:232] - field_validation : 验证失败，期望的值`该项目为空`，然而检验到的值为`已做核酸`\n"
     ]
    },
    {
     "name": "stdout",
     "output_type": "stream",
     "text": [
      "今天已经签到过了\n"
     ]
    },
    {
     "data": {
      "text/plain": "True"
     },
     "execution_count": 73,
     "metadata": {},
     "output_type": "execute_result"
    }
   ],
   "source": [
    "data_validation_fill()"
   ],
   "metadata": {
    "collapsed": false
   }
  }
 ],
 "metadata": {
  "kernelspec": {
   "display_name": "Python 3",
   "language": "python",
   "name": "python3"
  },
  "language_info": {
   "codemirror_mode": {
    "name": "ipython",
    "version": 2
   },
   "file_extension": ".py",
   "mimetype": "text/x-python",
   "name": "python",
   "nbconvert_exporter": "python",
   "pygments_lexer": "ipython2",
   "version": "2.7.6"
  }
 },
 "nbformat": 4,
 "nbformat_minor": 0
}
